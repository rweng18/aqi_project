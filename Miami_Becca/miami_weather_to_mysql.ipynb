{
 "cells": [
  {
   "cell_type": "code",
   "execution_count": 1,
   "metadata": {},
   "outputs": [],
   "source": [
    "import pandas as pd\n",
    "import math\n",
    "import numpy as np"
   ]
  },
  {
   "cell_type": "code",
   "execution_count": 2,
   "metadata": {},
   "outputs": [],
   "source": [
    "miami_weather = pd.read_csv('miami_weather_2013_2018.csv')"
   ]
  },
  {
   "cell_type": "code",
   "execution_count": 3,
   "metadata": {},
   "outputs": [],
   "source": [
    "miami_weather.drop(['Unnamed: 0'], axis = 1, inplace = True)"
   ]
  },
  {
   "cell_type": "code",
   "execution_count": 4,
   "metadata": {},
   "outputs": [
    {
     "data": {
      "text/plain": [
       "Index(['CITY', 'DATE', 'apparentTemperatureHigh',\n",
       "       'apparentTemperatureHighTime', 'apparentTemperatureLow',\n",
       "       'apparentTemperatureLowTime', 'apparentTemperatureMax',\n",
       "       'apparentTemperatureMaxTime', 'apparentTemperatureMin',\n",
       "       'apparentTemperatureMinTime', 'cloudCover', 'dewPoint', 'humidity',\n",
       "       'icon', 'moonPhase', 'ozone', 'precipIntensity', 'precipIntensityMax',\n",
       "       'precipIntensityMaxTime', 'precipProbability', 'precipType', 'pressure',\n",
       "       'summary', 'sunriseTime', 'sunsetTime', 'temperatureHigh',\n",
       "       'temperatureHighTime', 'temperatureLow', 'temperatureLowTime',\n",
       "       'temperatureMax', 'temperatureMaxTime', 'temperatureMin',\n",
       "       'temperatureMinTime', 'time', 'uvIndex', 'uvIndexTime', 'visibility',\n",
       "       'windBearing', 'windGust', 'windGustTime', 'windSpeed'],\n",
       "      dtype='object')"
      ]
     },
     "execution_count": 4,
     "metadata": {},
     "output_type": "execute_result"
    }
   ],
   "source": [
    "miami_weather.columns"
   ]
  },
  {
   "cell_type": "code",
   "execution_count": 5,
   "metadata": {},
   "outputs": [],
   "source": [
    "miami_weather_subset = miami_weather[['DATE', 'CITY', \n",
    "                                      'temperatureHigh', 'temperatureLow', \n",
    "                                      'cloudCover', 'dewPoint', 'humidity', \n",
    "                                      'precipIntensity', 'precipProbability', \n",
    "                                      'precipType', 'pressure', 'uvIndex', \n",
    "                                      'visibility', 'windBearing', \n",
    "                                      'windGust', 'windSpeed']]"
   ]
  },
  {
   "cell_type": "code",
   "execution_count": 6,
   "metadata": {},
   "outputs": [],
   "source": [
    "miami_weather_test = miami_weather_subset.replace({np.nan : None})"
   ]
  },
  {
   "cell_type": "code",
   "execution_count": 7,
   "metadata": {},
   "outputs": [],
   "source": [
    "miami_weather_test.DATE.replace(list(miami_weather_test['DATE']), \n",
    "                                  [x.replace('T23:59:59', '') for x in miami_weather_test['DATE']], \n",
    "                                  inplace = True)\n",
    "miami_weather_test.CITY.replace(['MIAMI'], ['Miami, FL'], inplace = True)"
   ]
  },
  {
   "cell_type": "code",
   "execution_count": 8,
   "metadata": {},
   "outputs": [],
   "source": [
    "miami_weather_test.drop_duplicates(inplace = True)"
   ]
  },
  {
   "cell_type": "code",
   "execution_count": 9,
   "metadata": {},
   "outputs": [
    {
     "data": {
      "text/plain": [
       "(372, 16)"
      ]
     },
     "execution_count": 9,
     "metadata": {},
     "output_type": "execute_result"
    }
   ],
   "source": [
    "miami_weather_test.shape"
   ]
  },
  {
   "cell_type": "markdown",
   "metadata": {},
   "source": [
    "# Convert data to tuples"
   ]
  },
  {
   "cell_type": "code",
   "execution_count": 10,
   "metadata": {},
   "outputs": [],
   "source": [
    "miami_weather_tuples = [tuple(row) for row in miami_weather_test.values]"
   ]
  },
  {
   "cell_type": "code",
   "execution_count": 11,
   "metadata": {},
   "outputs": [
    {
     "data": {
      "text/plain": [
       "[('2018-12-27',\n",
       "  'Miami, FL',\n",
       "  80.33,\n",
       "  75.04,\n",
       "  0.61,\n",
       "  68.75,\n",
       "  0.78,\n",
       "  0.0001,\n",
       "  0.3,\n",
       "  'rain',\n",
       "  1020.7,\n",
       "  5,\n",
       "  9.934,\n",
       "  103,\n",
       "  28.25,\n",
       "  18.15),\n",
       " ('2018-12-28',\n",
       "  'Miami, FL',\n",
       "  81.7,\n",
       "  73.2,\n",
       "  0.8,\n",
       "  72.65,\n",
       "  0.85,\n",
       "  0.0004,\n",
       "  0.59,\n",
       "  'rain',\n",
       "  1020.5,\n",
       "  4,\n",
       "  9.904,\n",
       "  128,\n",
       "  18.85,\n",
       "  13.27),\n",
       " ('2018-12-29',\n",
       "  'Miami, FL',\n",
       "  82.52,\n",
       "  69.98,\n",
       "  0.42,\n",
       "  72.89,\n",
       "  0.87,\n",
       "  0.0,\n",
       "  0.19,\n",
       "  None,\n",
       "  1021.3,\n",
       "  4,\n",
       "  9.953,\n",
       "  132,\n",
       "  11.6,\n",
       "  8.15),\n",
       " ('2018-12-30',\n",
       "  'Miami, FL',\n",
       "  80.91,\n",
       "  72.63,\n",
       "  0.19,\n",
       "  68.14,\n",
       "  0.79,\n",
       "  0.0,\n",
       "  0.0,\n",
       "  None,\n",
       "  1021.1,\n",
       "  5,\n",
       "  9.829,\n",
       "  108,\n",
       "  12.04,\n",
       "  8.0)]"
      ]
     },
     "execution_count": 11,
     "metadata": {},
     "output_type": "execute_result"
    }
   ],
   "source": [
    "miami_weather_tuples[-5:-1]"
   ]
  },
  {
   "cell_type": "markdown",
   "metadata": {},
   "source": [
    "# Load into MySQL"
   ]
  },
  {
   "cell_type": "code",
   "execution_count": 12,
   "metadata": {},
   "outputs": [],
   "source": [
    "import mysql.connector\n",
    "from mysql.connector import errorcode\n",
    "import config"
   ]
  },
  {
   "cell_type": "code",
   "execution_count": 13,
   "metadata": {},
   "outputs": [],
   "source": [
    "dbname = 'FLIGHTS'\n",
    "cnx = mysql.connector .connect(\n",
    "    host = config.host,\n",
    "    user = config.user,\n",
    "    passwd = config.password,\n",
    "    db = dbname\n",
    ")\n",
    "cursor = cnx.cursor()"
   ]
  },
  {
   "cell_type": "code",
   "execution_count": 14,
   "metadata": {},
   "outputs": [],
   "source": [
    "insert_statement = \"\"\"INSERT INTO FLIGHTS.WEATHER (date, city_name, max_temp, min_temp, cloud_cover, dew_point, humidity, precip_intens, precip_prob, precip_type, pressure, uv_index, visibility, windbearing, wind_gust, windspeed) VALUES (%s, %s, %s, %s, %s, %s, %s, %s, %s, %s, %s, %s, %s,%s, %s, %s)\"\"\"\n",
    "cursor.executemany(insert_statement, miami_weather_tuples)\n",
    "cnx.commit()"
   ]
  },
  {
   "cell_type": "code",
   "execution_count": 15,
   "metadata": {},
   "outputs": [],
   "source": [
    "cursor.close()\n",
    "cnx.close()"
   ]
  },
  {
   "cell_type": "code",
   "execution_count": null,
   "metadata": {},
   "outputs": [],
   "source": []
  }
 ],
 "metadata": {
  "kernelspec": {
   "display_name": "Python 3",
   "language": "python",
   "name": "python3"
  },
  "language_info": {
   "codemirror_mode": {
    "name": "ipython",
    "version": 3
   },
   "file_extension": ".py",
   "mimetype": "text/x-python",
   "name": "python",
   "nbconvert_exporter": "python",
   "pygments_lexer": "ipython3",
   "version": "3.7.3"
  }
 },
 "nbformat": 4,
 "nbformat_minor": 2
}
