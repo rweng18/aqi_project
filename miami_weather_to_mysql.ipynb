{
 "cells": [
  {
   "cell_type": "code",
   "execution_count": 1,
   "metadata": {},
   "outputs": [],
   "source": [
    "import pandas as pd\n",
    "import math\n",
    "import numpy as np"
   ]
  },
  {
   "cell_type": "code",
   "execution_count": 12,
   "metadata": {},
   "outputs": [],
   "source": [
    "miami_weather = pd.read_csv('miami_weather_2013_2018.csv')"
   ]
  },
  {
   "cell_type": "code",
   "execution_count": 15,
   "metadata": {},
   "outputs": [],
   "source": [
    "miami_weather.drop(['Unnamed: 0'], axis = 1, inplace = True)"
   ]
  },
  {
   "cell_type": "code",
   "execution_count": 17,
   "metadata": {},
   "outputs": [
    {
     "data": {
      "text/plain": [
       "Index(['CITY', 'DATE', 'apparentTemperatureHigh',\n",
       "       'apparentTemperatureHighTime', 'apparentTemperatureLow',\n",
       "       'apparentTemperatureLowTime', 'apparentTemperatureMax',\n",
       "       'apparentTemperatureMaxTime', 'apparentTemperatureMin',\n",
       "       'apparentTemperatureMinTime', 'cloudCover', 'dewPoint', 'humidity',\n",
       "       'icon', 'moonPhase', 'ozone', 'precipIntensity', 'precipIntensityMax',\n",
       "       'precipIntensityMaxTime', 'precipProbability', 'precipType', 'pressure',\n",
       "       'summary', 'sunriseTime', 'sunsetTime', 'temperatureHigh',\n",
       "       'temperatureHighTime', 'temperatureLow', 'temperatureLowTime',\n",
       "       'temperatureMax', 'temperatureMaxTime', 'temperatureMin',\n",
       "       'temperatureMinTime', 'time', 'uvIndex', 'uvIndexTime', 'visibility',\n",
       "       'windBearing', 'windGust', 'windGustTime', 'windSpeed'],\n",
       "      dtype='object')"
      ]
     },
     "execution_count": 17,
     "metadata": {},
     "output_type": "execute_result"
    }
   ],
   "source": [
    "miami_weather.columns"
   ]
  },
  {
   "cell_type": "code",
   "execution_count": 19,
   "metadata": {},
   "outputs": [],
   "source": [
    "miami_weather_subset = miami_weather[['CITY', 'DATE', 'cloudCover', 'dewPoint', \n",
    "                                      'humidity', 'precipIntensity', 'precipProbability', \n",
    "                                      'precipType', 'pressure', 'summary', 'temperatureHigh', \n",
    "                                      'temperatureLow', 'uvIndex', 'visibility', 'windBearing', \n",
    "                                      'windGust', 'windSpeed']]"
   ]
  },
  {
   "cell_type": "code",
   "execution_count": 31,
   "metadata": {},
   "outputs": [],
   "source": [
    "miami_weather_subset.DATE.replace(list(miami_weather_subset['DATE']), \n",
    "                                  [x.replace('T23:59:59', '') for x in miami_weather_subset['DATE']], \n",
    "                                  inplace = True)\n",
    "miami_weather_subset.CITY.replace(['MIAMI'], ['Miami, FL'], inplace = True)"
   ]
  },
  {
   "cell_type": "code",
   "execution_count": 34,
   "metadata": {},
   "outputs": [],
   "source": [
    "miami_07weather = miami_weather_subset[miami_weather_subset['DATE'].str.contains(\"-07-\")]"
   ]
  },
  {
   "cell_type": "code",
   "execution_count": 36,
   "metadata": {},
   "outputs": [],
   "source": [
    "miami_12weather = miami_weather_subset[miami_weather_subset['DATE'].str.contains(\"-12-\")]"
   ]
  },
  {
   "cell_type": "code",
   "execution_count": null,
   "metadata": {},
   "outputs": [],
   "source": []
  }
 ],
 "metadata": {
  "kernelspec": {
   "display_name": "Python 3",
   "language": "python",
   "name": "python3"
  },
  "language_info": {
   "codemirror_mode": {
    "name": "ipython",
    "version": 3
   },
   "file_extension": ".py",
   "mimetype": "text/x-python",
   "name": "python",
   "nbconvert_exporter": "python",
   "pygments_lexer": "ipython3",
   "version": "3.7.3"
  }
 },
 "nbformat": 4,
 "nbformat_minor": 2
}
