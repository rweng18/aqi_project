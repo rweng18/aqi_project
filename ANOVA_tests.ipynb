{
 "cells": [
  {
   "cell_type": "markdown",
   "metadata": {},
   "source": [
    "# Import Packages"
   ]
  },
  {
   "cell_type": "code",
   "execution_count": 52,
   "metadata": {},
   "outputs": [],
   "source": [
    "import pandas as pd\n",
    "import math\n",
    "import numpy as np\n",
    "import statsmodels.api as sm\n",
    "from statsmodels.formula.api import ols\n",
    "import seaborn as sns\n",
    "from statsmodels.graphics.factorplots import interaction_plot\n",
    "import matplotlib.pyplot as plt"
   ]
  },
  {
   "cell_type": "code",
   "execution_count": 53,
   "metadata": {},
   "outputs": [],
   "source": [
    "import mysql.connector\n",
    "from mysql.connector import errorcode\n",
    "import config"
   ]
  },
  {
   "cell_type": "markdown",
   "metadata": {},
   "source": [
    "# Load FLIGHTS data from MySQL"
   ]
  },
  {
   "cell_type": "code",
   "execution_count": 54,
   "metadata": {},
   "outputs": [],
   "source": [
    "# Connect to database\n",
    "dbname = 'FLIGHTS'\n",
    "cnx = mysql.connector .connect(\n",
    "    host = config.host,\n",
    "    user = config.user,\n",
    "    passwd = config.password,\n",
    "    db = dbname\n",
    ")\n",
    "cursor = cnx.cursor()"
   ]
  },
  {
   "cell_type": "code",
   "execution_count": 55,
   "metadata": {},
   "outputs": [],
   "source": [
    "# Get FLIGHTS data from MySQL\n",
    "cursor.execute('''SELECT flight_id, date, origin, origin_city, dest, dest_city, dep_delay, arr_delay FROM FLIGHTS.FLIGHTS''')\n",
    "flights_data = cursor.fetchall()\n",
    "flights_df = pd.DataFrame(flights_data)\n",
    "\n",
    "# Get column names for flights dataframe\n",
    "field_names = [i[0] for i in cursor.description]\n",
    "flights_df.columns = field_names"
   ]
  },
  {
   "cell_type": "code",
   "execution_count": 56,
   "metadata": {
    "scrolled": false
   },
   "outputs": [
    {
     "data": {
      "text/html": [
       "<div>\n",
       "<style scoped>\n",
       "    .dataframe tbody tr th:only-of-type {\n",
       "        vertical-align: middle;\n",
       "    }\n",
       "\n",
       "    .dataframe tbody tr th {\n",
       "        vertical-align: top;\n",
       "    }\n",
       "\n",
       "    .dataframe thead th {\n",
       "        text-align: right;\n",
       "    }\n",
       "</style>\n",
       "<table border=\"1\" class=\"dataframe\">\n",
       "  <thead>\n",
       "    <tr style=\"text-align: right;\">\n",
       "      <th></th>\n",
       "      <th>flight_id</th>\n",
       "      <th>date</th>\n",
       "      <th>origin</th>\n",
       "      <th>origin_city</th>\n",
       "      <th>dest</th>\n",
       "      <th>dest_city</th>\n",
       "      <th>dep_delay</th>\n",
       "      <th>arr_delay</th>\n",
       "    </tr>\n",
       "  </thead>\n",
       "  <tbody>\n",
       "    <tr>\n",
       "      <th>0</th>\n",
       "      <td>1</td>\n",
       "      <td>2013-07-01</td>\n",
       "      <td>LAX</td>\n",
       "      <td>Los Angeles, CA</td>\n",
       "      <td>JFK</td>\n",
       "      <td>New York, NY</td>\n",
       "      <td>-4.0</td>\n",
       "      <td>19.0</td>\n",
       "    </tr>\n",
       "    <tr>\n",
       "      <th>1</th>\n",
       "      <td>2</td>\n",
       "      <td>2013-07-01</td>\n",
       "      <td>LAX</td>\n",
       "      <td>Los Angeles, CA</td>\n",
       "      <td>JFK</td>\n",
       "      <td>New York, NY</td>\n",
       "      <td>257.0</td>\n",
       "      <td>278.0</td>\n",
       "    </tr>\n",
       "    <tr>\n",
       "      <th>2</th>\n",
       "      <td>3</td>\n",
       "      <td>2013-07-01</td>\n",
       "      <td>LAX</td>\n",
       "      <td>Los Angeles, CA</td>\n",
       "      <td>JFK</td>\n",
       "      <td>New York, NY</td>\n",
       "      <td>110.0</td>\n",
       "      <td>139.0</td>\n",
       "    </tr>\n",
       "    <tr>\n",
       "      <th>3</th>\n",
       "      <td>4</td>\n",
       "      <td>2013-07-01</td>\n",
       "      <td>LAX</td>\n",
       "      <td>Los Angeles, CA</td>\n",
       "      <td>JFK</td>\n",
       "      <td>New York, NY</td>\n",
       "      <td>25.0</td>\n",
       "      <td>39.0</td>\n",
       "    </tr>\n",
       "    <tr>\n",
       "      <th>4</th>\n",
       "      <td>5</td>\n",
       "      <td>2013-07-01</td>\n",
       "      <td>LAX</td>\n",
       "      <td>Los Angeles, CA</td>\n",
       "      <td>JFK</td>\n",
       "      <td>New York, NY</td>\n",
       "      <td>-1.0</td>\n",
       "      <td>12.0</td>\n",
       "    </tr>\n",
       "  </tbody>\n",
       "</table>\n",
       "</div>"
      ],
      "text/plain": [
       "   flight_id        date origin      origin_city dest     dest_city  \\\n",
       "0          1  2013-07-01    LAX  Los Angeles, CA  JFK  New York, NY   \n",
       "1          2  2013-07-01    LAX  Los Angeles, CA  JFK  New York, NY   \n",
       "2          3  2013-07-01    LAX  Los Angeles, CA  JFK  New York, NY   \n",
       "3          4  2013-07-01    LAX  Los Angeles, CA  JFK  New York, NY   \n",
       "4          5  2013-07-01    LAX  Los Angeles, CA  JFK  New York, NY   \n",
       "\n",
       "   dep_delay  arr_delay  \n",
       "0       -4.0       19.0  \n",
       "1      257.0      278.0  \n",
       "2      110.0      139.0  \n",
       "3       25.0       39.0  \n",
       "4       -1.0       12.0  "
      ]
     },
     "execution_count": 56,
     "metadata": {},
     "output_type": "execute_result"
    }
   ],
   "source": [
    "flights_df.head()"
   ]
  },
  {
   "cell_type": "code",
   "execution_count": 57,
   "metadata": {},
   "outputs": [
    {
     "name": "stdout",
     "output_type": "stream",
     "text": [
      "<class 'pandas.core.frame.DataFrame'>\n",
      "Int64Index: 52198 entries, 0 to 52636\n",
      "Data columns (total 8 columns):\n",
      "flight_id      52198 non-null int64\n",
      "date           52198 non-null object\n",
      "origin         52198 non-null object\n",
      "origin_city    52198 non-null object\n",
      "dest           52198 non-null object\n",
      "dest_city      52198 non-null object\n",
      "dep_delay      52198 non-null float64\n",
      "arr_delay      52198 non-null float64\n",
      "dtypes: float64(2), int64(1), object(5)\n",
      "memory usage: 3.6+ MB\n"
     ]
    }
   ],
   "source": [
    "flights_df.dropna(inplace = True)\n",
    "flights_df.info()"
   ]
  },
  {
   "cell_type": "code",
   "execution_count": 58,
   "metadata": {},
   "outputs": [
    {
     "data": {
      "text/plain": [
       "JFK    16396\n",
       "LAX    15945\n",
       "MIA    13401\n",
       "LGA     6456\n",
       "Name: origin, dtype: int64"
      ]
     },
     "execution_count": 58,
     "metadata": {},
     "output_type": "execute_result"
    }
   ],
   "source": [
    "flights_df['origin'].value_counts()"
   ]
  },
  {
   "cell_type": "code",
   "execution_count": 59,
   "metadata": {
    "scrolled": true
   },
   "outputs": [],
   "source": [
    "# Group data by origin city\n",
    "jfk = flights_df[flights_df['origin'] == 'JFK']\n",
    "lga = flights_df[flights_df['origin'] == 'LGA']\n",
    "lax = flights_df[flights_df['origin'] == 'LAX']\n",
    "mia = flights_df[flights_df['origin'] == 'MIA']"
   ]
  },
  {
   "cell_type": "code",
   "execution_count": 60,
   "metadata": {},
   "outputs": [
    {
     "data": {
      "image/png": "[encoded data removed]",
      "text/plain": [
       "<Figure size 432x288 with 1 Axes>"
      ]
     },
     "metadata": {
      "needs_background": "light"
     },
     "output_type": "display_data"
    }
   ],
   "source": [
    "sns.distplot(jfk['dep_delay'], kde = False, label = 'JFK');\n",
    "sns.distplot(lag['dep_delay'], kde = False, label = 'LGA');\n",
    "sns.distplot(lax['dep_delay'], kde = False, label = 'LAX');\n",
    "sns.distplot(mia['dep_delay'], kde = False, label = 'MIA');\n",
    "plt.legend(prop={'size': 12});\n",
    "plt.title('Departure Delay (minutes) By Airport');\n",
    "plt.xlabel('Departure Delay (minutes)');\n",
    "plt.ylabel('Frequency');"
   ]
  },
  {
   "cell_type": "code",
   "execution_count": 61,
   "metadata": {},
   "outputs": [
    {
     "name": "stdout",
     "output_type": "stream",
     "text": [
      "origin\n",
      "JFK    44.162959\n",
      "LAX    48.941694\n",
      "LGA    44.138704\n",
      "MIA    54.746669\n",
      "Name: dep_delay, dtype: float64\n",
      "origin\n",
      "JFK    16396\n",
      "LAX    15945\n",
      "LGA     6456\n",
      "MIA    13401\n",
      "dtype: int64\n"
     ]
    }
   ],
   "source": [
    "# Calculate standard deviation of departure delay by origin city\n",
    "print(flights_df.groupby('origin')['dep_delay'].std())\n",
    "print(flights_df.groupby('origin').size())"
   ]
  },
  {
   "cell_type": "markdown",
   "metadata": {},
   "source": [
    "# ANOVA Departure Delay ~ Origin"
   ]
  },
  {
   "cell_type": "markdown",
   "metadata": {},
   "source": [
    "$H_0$ : $D_{JFK}$ = $D_{LAG}$ = $D_{LAX}$ = $D_{MIA}$\n",
    "\n",
    "$H_A$ : $H_0$ is false"
   ]
  },
  {
   "cell_type": "code",
   "execution_count": 62,
   "metadata": {},
   "outputs": [
    {
     "data": {
      "text/html": [
       "<table class=\"simpletable\">\n",
       "<caption>OLS Regression Results</caption>\n",
       "<tr>\n",
       "  <th>Dep. Variable:</th>        <td>dep_delay</td>    <th>  R-squared:         </th>  <td>   0.003</td>  \n",
       "</tr>\n",
       "<tr>\n",
       "  <th>Model:</th>                   <td>OLS</td>       <th>  Adj. R-squared:    </th>  <td>   0.003</td>  \n",
       "</tr>\n",
       "<tr>\n",
       "  <th>Method:</th>             <td>Least Squares</td>  <th>  F-statistic:       </th>  <td>   57.80</td>  \n",
       "</tr>\n",
       "<tr>\n",
       "  <th>Date:</th>             <td>Thu, 14 Nov 2019</td> <th>  Prob (F-statistic):</th>  <td>2.70e-37</td>  \n",
       "</tr>\n",
       "<tr>\n",
       "  <th>Time:</th>                 <td>15:38:58</td>     <th>  Log-Likelihood:    </th> <td>-2.7670e+05</td>\n",
       "</tr>\n",
       "<tr>\n",
       "  <th>No. Observations:</th>      <td> 52198</td>      <th>  AIC:               </th>  <td>5.534e+05</td> \n",
       "</tr>\n",
       "<tr>\n",
       "  <th>Df Residuals:</th>          <td> 52194</td>      <th>  BIC:               </th>  <td>5.534e+05</td> \n",
       "</tr>\n",
       "<tr>\n",
       "  <th>Df Model:</th>              <td>     3</td>      <th>                     </th>      <td> </td>     \n",
       "</tr>\n",
       "<tr>\n",
       "  <th>Covariance Type:</th>      <td>nonrobust</td>    <th>                     </th>      <td> </td>     \n",
       "</tr>\n",
       "</table>\n",
       "<table class=\"simpletable\">\n",
       "<tr>\n",
       "        <td></td>           <th>coef</th>     <th>std err</th>      <th>t</th>      <th>P>|t|</th>  <th>[0.025</th>    <th>0.975]</th>  \n",
       "</tr>\n",
       "<tr>\n",
       "  <th>Intercept</th>     <td>   12.2493</td> <td>    0.379</td> <td>   32.323</td> <td> 0.000</td> <td>   11.507</td> <td>   12.992</td>\n",
       "</tr>\n",
       "<tr>\n",
       "  <th>origin[T.LAX]</th> <td>    1.7587</td> <td>    0.540</td> <td>    3.259</td> <td> 0.001</td> <td>    0.701</td> <td>    2.817</td>\n",
       "</tr>\n",
       "<tr>\n",
       "  <th>origin[T.LGA]</th> <td>   -0.7802</td> <td>    0.713</td> <td>   -1.094</td> <td> 0.274</td> <td>   -2.178</td> <td>    0.617</td>\n",
       "</tr>\n",
       "<tr>\n",
       "  <th>origin[T.MIA]</th> <td>    6.6772</td> <td>    0.565</td> <td>   11.816</td> <td> 0.000</td> <td>    5.570</td> <td>    7.785</td>\n",
       "</tr>\n",
       "</table>\n",
       "<table class=\"simpletable\">\n",
       "<tr>\n",
       "  <th>Omnibus:</th>       <td>71709.208</td> <th>  Durbin-Watson:     </th>   <td>   1.766</td>  \n",
       "</tr>\n",
       "<tr>\n",
       "  <th>Prob(Omnibus):</th>  <td> 0.000</td>   <th>  Jarque-Bera (JB):  </th> <td>29729990.411</td>\n",
       "</tr>\n",
       "<tr>\n",
       "  <th>Skew:</th>           <td> 7.841</td>   <th>  Prob(JB):          </th>   <td>    0.00</td>  \n",
       "</tr>\n",
       "<tr>\n",
       "  <th>Kurtosis:</th>       <td>118.860</td>  <th>  Cond. No.          </th>   <td>    4.53</td>  \n",
       "</tr>\n",
       "</table><br/><br/>Warnings:<br/>[1] Standard Errors assume that the covariance matrix of the errors is correctly specified."
      ],
      "text/plain": [
       "<class 'statsmodels.iolib.summary.Summary'>\n",
       "\"\"\"\n",
       "                            OLS Regression Results                            \n",
       "==============================================================================\n",
       "Dep. Variable:              dep_delay   R-squared:                       0.003\n",
       "Model:                            OLS   Adj. R-squared:                  0.003\n",
       "Method:                 Least Squares   F-statistic:                     57.80\n",
       "Date:                Thu, 14 Nov 2019   Prob (F-statistic):           2.70e-37\n",
       "Time:                        15:38:58   Log-Likelihood:            -2.7670e+05\n",
       "No. Observations:               52198   AIC:                         5.534e+05\n",
       "Df Residuals:                   52194   BIC:                         5.534e+05\n",
       "Df Model:                           3                                         \n",
       "Covariance Type:            nonrobust                                         \n",
       "=================================================================================\n",
       "                    coef    std err          t      P>|t|      [0.025      0.975]\n",
       "---------------------------------------------------------------------------------\n",
       "Intercept        12.2493      0.379     32.323      0.000      11.507      12.992\n",
       "origin[T.LAX]     1.7587      0.540      3.259      0.001       0.701       2.817\n",
       "origin[T.LGA]    -0.7802      0.713     -1.094      0.274      -2.178       0.617\n",
       "origin[T.MIA]     6.6772      0.565     11.816      0.000       5.570       7.785\n",
       "==============================================================================\n",
       "Omnibus:                    71709.208   Durbin-Watson:                   1.766\n",
       "Prob(Omnibus):                  0.000   Jarque-Bera (JB):         29729990.411\n",
       "Skew:                           7.841   Prob(JB):                         0.00\n",
       "Kurtosis:                     118.860   Cond. No.                         4.53\n",
       "==============================================================================\n",
       "\n",
       "Warnings:\n",
       "[1] Standard Errors assume that the covariance matrix of the errors is correctly specified.\n",
       "\"\"\""
      ]
     },
     "execution_count": 62,
     "metadata": {},
     "output_type": "execute_result"
    }
   ],
   "source": [
    "anova_origin_city = ols('dep_delay~origin', data = flights_df).fit()\n",
    "anova_origin_city.summary()"
   ]
  },
  {
   "cell_type": "code",
   "execution_count": 63,
   "metadata": {},
   "outputs": [],
   "source": [
    "anova_table = sm.stats.anova_lm(anova_origin_city, type=2)"
   ]
  },
  {
   "cell_type": "code",
   "execution_count": 64,
   "metadata": {},
   "outputs": [
    {
     "name": "stdout",
     "output_type": "stream",
     "text": [
      "               df        sum_sq        mean_sq          F        PR(>F)\n",
      "origin        3.0  4.083266e+05  136108.855323  57.801272  2.700782e-37\n",
      "Residual  52194.0  1.229050e+08    2354.772681        NaN           NaN\n"
     ]
    }
   ],
   "source": [
    "print(anova_table)"
   ]
  },
  {
   "cell_type": "code",
   "execution_count": 65,
   "metadata": {},
   "outputs": [
    {
     "name": "stdout",
     "output_type": "stream",
     "text": [
      "               df        sum_sq        mean_sq          F        PR(>F)  \\\n",
      "origin        3.0  4.083266e+05  136108.855323  57.801272  2.700782e-37   \n",
      "Residual  52194.0  1.229050e+08    2354.772681        NaN           NaN   \n",
      "\n",
      "               EtaSq  \n",
      "origin    0.00331129  \n",
      "Residual         NaN  \n"
     ]
    }
   ],
   "source": [
    "esq_sm = anova_table['sum_sq'][0]/(anova_table['sum_sq'][0] + anova_table['sum_sq'][1])\n",
    "anova_table['EtaSq'] = [esq_sm, 'NaN']\n",
    "print(anova_table)"
   ]
  },
  {
   "cell_type": "markdown",
   "metadata": {},
   "source": [
    "# Post Hoc ANOVA"
   ]
  },
  {
   "cell_type": "code",
   "execution_count": 88,
   "metadata": {},
   "outputs": [],
   "source": [
    "from statsmodels.stats.multicomp import pairwise_tukeyhsd\n",
    "from statsmodels.stats.multicomp import MultiComparison"
   ]
  },
  {
   "cell_type": "code",
   "execution_count": 89,
   "metadata": {},
   "outputs": [
    {
     "name": "stdout",
     "output_type": "stream",
     "text": [
      "Multiple Comparison of Means - Tukey HSD, FWER=0.05 \n",
      "====================================================\n",
      "group1 group2 meandiff p-adj   lower   upper  reject\n",
      "----------------------------------------------------\n",
      "   JFK    LAX   1.7587 0.0062  0.3721  3.1453   True\n",
      "   JFK    LGA  -0.7802  0.671 -2.6119  1.0516  False\n",
      "   JFK    MIA   6.6772  0.001  5.2255   8.129   True\n",
      "   LAX    LGA  -2.5389 0.0022 -4.3779 -0.6998   True\n",
      "   LAX    MIA   4.9185  0.001  3.4575  6.3795   True\n",
      "   LGA    MIA   7.4574  0.001  5.5687  9.3461   True\n",
      "----------------------------------------------------\n",
      "['JFK' 'LAX' 'LGA' 'MIA']\n"
     ]
    }
   ],
   "source": [
    "mc = MultiComparison(flights_df['dep_delay'], flights_df['origin'])\n",
    "result = mc.tukeyhsd()\n",
    " \n",
    "print(result)\n",
    "print(mc.groupsunique)"
   ]
  },
  {
   "cell_type": "markdown",
   "metadata": {},
   "source": [
    "# Load Weather Data"
   ]
  },
  {
   "cell_type": "code",
   "execution_count": 66,
   "metadata": {},
   "outputs": [],
   "source": [
    "dbname = 'FLIGHTS'\n",
    "cnx = mysql.connector .connect(\n",
    "    host = config.host,\n",
    "    user = config.user,\n",
    "    passwd = config.password,\n",
    "    db = dbname\n",
    ")\n",
    "cursor = cnx.cursor()"
   ]
  },
  {
   "cell_type": "code",
   "execution_count": 67,
   "metadata": {},
   "outputs": [],
   "source": [
    "cursor.execute('''SELECT date, city_name, precip_intens, precip_type, max_temp, min_temp, visibility, wind_gust FROM FLIGHTS.WEATHER''')\n",
    "weather_data = cursor.fetchall()\n",
    "weather_df = pd.DataFrame(weather_data)\n",
    "weather_df.shape\n",
    "field_names = [i[0] for i in cursor.description]\n",
    "weather_df.columns = field_names"
   ]
  },
  {
   "cell_type": "code",
   "execution_count": 68,
   "metadata": {},
   "outputs": [
    {
     "data": {
      "text/html": [
       "<div>\n",
       "<style scoped>\n",
       "    .dataframe tbody tr th:only-of-type {\n",
       "        vertical-align: middle;\n",
       "    }\n",
       "\n",
       "    .dataframe tbody tr th {\n",
       "        vertical-align: top;\n",
       "    }\n",
       "\n",
       "    .dataframe thead th {\n",
       "        text-align: right;\n",
       "    }\n",
       "</style>\n",
       "<table border=\"1\" class=\"dataframe\">\n",
       "  <thead>\n",
       "    <tr style=\"text-align: right;\">\n",
       "      <th></th>\n",
       "      <th>date</th>\n",
       "      <th>city_name</th>\n",
       "      <th>precip_intens</th>\n",
       "      <th>precip_type</th>\n",
       "      <th>max_temp</th>\n",
       "      <th>min_temp</th>\n",
       "      <th>visibility</th>\n",
       "      <th>wind_gust</th>\n",
       "    </tr>\n",
       "  </thead>\n",
       "  <tbody>\n",
       "    <tr>\n",
       "      <th>0</th>\n",
       "      <td>2013-07-01</td>\n",
       "      <td>Los Angeles, CA</td>\n",
       "      <td>0.0000</td>\n",
       "      <td>None</td>\n",
       "      <td>96.03</td>\n",
       "      <td>67.18</td>\n",
       "      <td>9.731</td>\n",
       "      <td>10.36</td>\n",
       "    </tr>\n",
       "    <tr>\n",
       "      <th>1</th>\n",
       "      <td>2013-07-01</td>\n",
       "      <td>Miami, FL</td>\n",
       "      <td>0.0010</td>\n",
       "      <td>rain</td>\n",
       "      <td>88.47</td>\n",
       "      <td>78.40</td>\n",
       "      <td>9.997</td>\n",
       "      <td>18.00</td>\n",
       "    </tr>\n",
       "    <tr>\n",
       "      <th>2</th>\n",
       "      <td>2013-07-01</td>\n",
       "      <td>New York, NY</td>\n",
       "      <td>0.0324</td>\n",
       "      <td>rain</td>\n",
       "      <td>76.39</td>\n",
       "      <td>72.88</td>\n",
       "      <td>5.383</td>\n",
       "      <td>9.41</td>\n",
       "    </tr>\n",
       "    <tr>\n",
       "      <th>3</th>\n",
       "      <td>2013-07-02</td>\n",
       "      <td>Los Angeles, CA</td>\n",
       "      <td>0.0000</td>\n",
       "      <td>None</td>\n",
       "      <td>85.97</td>\n",
       "      <td>65.60</td>\n",
       "      <td>8.973</td>\n",
       "      <td>12.53</td>\n",
       "    </tr>\n",
       "    <tr>\n",
       "      <th>4</th>\n",
       "      <td>2013-07-02</td>\n",
       "      <td>Miami, FL</td>\n",
       "      <td>0.0027</td>\n",
       "      <td>rain</td>\n",
       "      <td>85.29</td>\n",
       "      <td>76.65</td>\n",
       "      <td>9.923</td>\n",
       "      <td>15.46</td>\n",
       "    </tr>\n",
       "  </tbody>\n",
       "</table>\n",
       "</div>"
      ],
      "text/plain": [
       "         date        city_name  precip_intens precip_type  max_temp  min_temp  \\\n",
       "0  2013-07-01  Los Angeles, CA         0.0000        None     96.03     67.18   \n",
       "1  2013-07-01        Miami, FL         0.0010        rain     88.47     78.40   \n",
       "2  2013-07-01     New York, NY         0.0324        rain     76.39     72.88   \n",
       "3  2013-07-02  Los Angeles, CA         0.0000        None     85.97     65.60   \n",
       "4  2013-07-02        Miami, FL         0.0027        rain     85.29     76.65   \n",
       "\n",
       "   visibility  wind_gust  \n",
       "0       9.731      10.36  \n",
       "1       9.997      18.00  \n",
       "2       5.383       9.41  \n",
       "3       8.973      12.53  \n",
       "4       9.923      15.46  "
      ]
     },
     "execution_count": 68,
     "metadata": {},
     "output_type": "execute_result"
    }
   ],
   "source": [
    "weather_df.head()"
   ]
  },
  {
   "cell_type": "markdown",
   "metadata": {},
   "source": [
    "# Merge Flight and Weather Data"
   ]
  },
  {
   "cell_type": "code",
   "execution_count": 69,
   "metadata": {},
   "outputs": [],
   "source": [
    "flight_weather = pd.merge(flights_df, weather_df,  how = 'left', left_on=['date','origin_city'], right_on = ['date','city_name'])"
   ]
  },
  {
   "cell_type": "code",
   "execution_count": 70,
   "metadata": {
    "scrolled": true
   },
   "outputs": [
    {
     "data": {
      "text/html": [
       "<div>\n",
       "<style scoped>\n",
       "    .dataframe tbody tr th:only-of-type {\n",
       "        vertical-align: middle;\n",
       "    }\n",
       "\n",
       "    .dataframe tbody tr th {\n",
       "        vertical-align: top;\n",
       "    }\n",
       "\n",
       "    .dataframe thead th {\n",
       "        text-align: right;\n",
       "    }\n",
       "</style>\n",
       "<table border=\"1\" class=\"dataframe\">\n",
       "  <thead>\n",
       "    <tr style=\"text-align: right;\">\n",
       "      <th></th>\n",
       "      <th>flight_id</th>\n",
       "      <th>date</th>\n",
       "      <th>origin</th>\n",
       "      <th>origin_city</th>\n",
       "      <th>dest</th>\n",
       "      <th>dest_city</th>\n",
       "      <th>dep_delay</th>\n",
       "      <th>arr_delay</th>\n",
       "      <th>city_name</th>\n",
       "      <th>precip_intens</th>\n",
       "      <th>precip_type</th>\n",
       "      <th>max_temp</th>\n",
       "      <th>min_temp</th>\n",
       "      <th>visibility</th>\n",
       "      <th>wind_gust</th>\n",
       "    </tr>\n",
       "  </thead>\n",
       "  <tbody>\n",
       "    <tr>\n",
       "      <th>0</th>\n",
       "      <td>1</td>\n",
       "      <td>2013-07-01</td>\n",
       "      <td>LAX</td>\n",
       "      <td>Los Angeles, CA</td>\n",
       "      <td>JFK</td>\n",
       "      <td>New York, NY</td>\n",
       "      <td>-4.0</td>\n",
       "      <td>19.0</td>\n",
       "      <td>Los Angeles, CA</td>\n",
       "      <td>0.0</td>\n",
       "      <td>None</td>\n",
       "      <td>96.03</td>\n",
       "      <td>67.18</td>\n",
       "      <td>9.731</td>\n",
       "      <td>10.36</td>\n",
       "    </tr>\n",
       "    <tr>\n",
       "      <th>1</th>\n",
       "      <td>2</td>\n",
       "      <td>2013-07-01</td>\n",
       "      <td>LAX</td>\n",
       "      <td>Los Angeles, CA</td>\n",
       "      <td>JFK</td>\n",
       "      <td>New York, NY</td>\n",
       "      <td>257.0</td>\n",
       "      <td>278.0</td>\n",
       "      <td>Los Angeles, CA</td>\n",
       "      <td>0.0</td>\n",
       "      <td>None</td>\n",
       "      <td>96.03</td>\n",
       "      <td>67.18</td>\n",
       "      <td>9.731</td>\n",
       "      <td>10.36</td>\n",
       "    </tr>\n",
       "    <tr>\n",
       "      <th>2</th>\n",
       "      <td>3</td>\n",
       "      <td>2013-07-01</td>\n",
       "      <td>LAX</td>\n",
       "      <td>Los Angeles, CA</td>\n",
       "      <td>JFK</td>\n",
       "      <td>New York, NY</td>\n",
       "      <td>110.0</td>\n",
       "      <td>139.0</td>\n",
       "      <td>Los Angeles, CA</td>\n",
       "      <td>0.0</td>\n",
       "      <td>None</td>\n",
       "      <td>96.03</td>\n",
       "      <td>67.18</td>\n",
       "      <td>9.731</td>\n",
       "      <td>10.36</td>\n",
       "    </tr>\n",
       "    <tr>\n",
       "      <th>3</th>\n",
       "      <td>4</td>\n",
       "      <td>2013-07-01</td>\n",
       "      <td>LAX</td>\n",
       "      <td>Los Angeles, CA</td>\n",
       "      <td>JFK</td>\n",
       "      <td>New York, NY</td>\n",
       "      <td>25.0</td>\n",
       "      <td>39.0</td>\n",
       "      <td>Los Angeles, CA</td>\n",
       "      <td>0.0</td>\n",
       "      <td>None</td>\n",
       "      <td>96.03</td>\n",
       "      <td>67.18</td>\n",
       "      <td>9.731</td>\n",
       "      <td>10.36</td>\n",
       "    </tr>\n",
       "    <tr>\n",
       "      <th>4</th>\n",
       "      <td>5</td>\n",
       "      <td>2013-07-01</td>\n",
       "      <td>LAX</td>\n",
       "      <td>Los Angeles, CA</td>\n",
       "      <td>JFK</td>\n",
       "      <td>New York, NY</td>\n",
       "      <td>-1.0</td>\n",
       "      <td>12.0</td>\n",
       "      <td>Los Angeles, CA</td>\n",
       "      <td>0.0</td>\n",
       "      <td>None</td>\n",
       "      <td>96.03</td>\n",
       "      <td>67.18</td>\n",
       "      <td>9.731</td>\n",
       "      <td>10.36</td>\n",
       "    </tr>\n",
       "  </tbody>\n",
       "</table>\n",
       "</div>"
      ],
      "text/plain": [
       "   flight_id        date origin      origin_city dest     dest_city  \\\n",
       "0          1  2013-07-01    LAX  Los Angeles, CA  JFK  New York, NY   \n",
       "1          2  2013-07-01    LAX  Los Angeles, CA  JFK  New York, NY   \n",
       "2          3  2013-07-01    LAX  Los Angeles, CA  JFK  New York, NY   \n",
       "3          4  2013-07-01    LAX  Los Angeles, CA  JFK  New York, NY   \n",
       "4          5  2013-07-01    LAX  Los Angeles, CA  JFK  New York, NY   \n",
       "\n",
       "   dep_delay  arr_delay        city_name  precip_intens precip_type  max_temp  \\\n",
       "0       -4.0       19.0  Los Angeles, CA            0.0        None     96.03   \n",
       "1      257.0      278.0  Los Angeles, CA            0.0        None     96.03   \n",
       "2      110.0      139.0  Los Angeles, CA            0.0        None     96.03   \n",
       "3       25.0       39.0  Los Angeles, CA            0.0        None     96.03   \n",
       "4       -1.0       12.0  Los Angeles, CA            0.0        None     96.03   \n",
       "\n",
       "   min_temp  visibility  wind_gust  \n",
       "0     67.18       9.731      10.36  \n",
       "1     67.18       9.731      10.36  \n",
       "2     67.18       9.731      10.36  \n",
       "3     67.18       9.731      10.36  \n",
       "4     67.18       9.731      10.36  "
      ]
     },
     "execution_count": 70,
     "metadata": {},
     "output_type": "execute_result"
    }
   ],
   "source": [
    "flight_weather.head()"
   ]
  },
  {
   "cell_type": "markdown",
   "metadata": {},
   "source": [
    "# Clean Precipitation Type"
   ]
  },
  {
   "cell_type": "code",
   "execution_count": 71,
   "metadata": {},
   "outputs": [],
   "source": [
    "import matplotlib.pyplot as plt"
   ]
  },
  {
   "cell_type": "code",
   "execution_count": 72,
   "metadata": {},
   "outputs": [
    {
     "data": {
      "text/plain": [
       "rain     17793\n",
       "snow       578\n",
       "sleet       66\n",
       "Name: precip_type, dtype: int64"
      ]
     },
     "execution_count": 72,
     "metadata": {},
     "output_type": "execute_result"
    }
   ],
   "source": [
    "flight_weather['precip_type'].value_counts()"
   ]
  },
  {
   "cell_type": "code",
   "execution_count": 73,
   "metadata": {},
   "outputs": [
    {
     "name": "stdout",
     "output_type": "stream",
     "text": [
      "33761\n",
      "33761\n"
     ]
    }
   ],
   "source": [
    "# Check that missing preciptation type is because precipitation intensity was 0\n",
    "weather_none = flight_weather[flight_weather['precip_type'].isnull()]\n",
    "print(len(weather_none))\n",
    "weather_precip_0 = flight_weather[(flight_weather['precip_intens'] == 0) & (flight_weather['precip_type'].isnull())]\n",
    "print(len(weather_precip_0))"
   ]
  },
  {
   "cell_type": "code",
   "execution_count": 74,
   "metadata": {},
   "outputs": [],
   "source": [
    "flight_weather_precip = flight_weather.fillna(value = {'precip_type': 'No Precipitation'})"
   ]
  },
  {
   "cell_type": "code",
   "execution_count": 75,
   "metadata": {
    "scrolled": true
   },
   "outputs": [
    {
     "name": "stdout",
     "output_type": "stream",
     "text": [
      "precip_type\n",
      "No Precipitation    42.921722\n",
      "rain                57.722558\n",
      "sleet               19.241085\n",
      "snow                42.382735\n",
      "Name: dep_delay, dtype: float64\n",
      "precip_type\n",
      "No Precipitation    33761\n",
      "rain                17793\n",
      "sleet                  66\n",
      "snow                  578\n",
      "dtype: int64\n"
     ]
    }
   ],
   "source": [
    "print(flight_weather_precip.groupby('precip_type')['dep_delay'].std())\n",
    "print(flight_weather_precip.groupby('precip_type').size())"
   ]
  },
  {
   "cell_type": "markdown",
   "metadata": {},
   "source": [
    "# ANOVA Departure Delay Time ~ Precipitation Type"
   ]
  },
  {
   "cell_type": "markdown",
   "metadata": {},
   "source": [
    "$H_0$ : $D_{no rain}$ = $D_{rain}$\n",
    "    \n",
    "$H_A$ : $H_0$ is false"
   ]
  },
  {
   "cell_type": "code",
   "execution_count": 76,
   "metadata": {},
   "outputs": [
    {
     "name": "stdout",
     "output_type": "stream",
     "text": [
      "                            OLS Regression Results                            \n",
      "==============================================================================\n",
      "Dep. Variable:              dep_delay   R-squared:                       0.006\n",
      "Model:                            OLS   Adj. R-squared:                  0.006\n",
      "Method:                 Least Squares   F-statistic:                     110.3\n",
      "Date:                Thu, 14 Nov 2019   Prob (F-statistic):           3.64e-71\n",
      "Time:                        15:39:07   Log-Likelihood:            -2.7662e+05\n",
      "No. Observations:               52198   AIC:                         5.533e+05\n",
      "Df Residuals:                   52194   BIC:                         5.533e+05\n",
      "Df Model:                           3                                         \n",
      "Covariance Type:            nonrobust                                         \n",
      "========================================================================================\n",
      "                           coef    std err          t      P>|t|      [0.025      0.975]\n",
      "----------------------------------------------------------------------------------------\n",
      "Intercept               11.5750      0.264     43.894      0.000      11.058      12.092\n",
      "precip_type[T.rain]      8.1108      0.449     18.069      0.000       7.231       8.991\n",
      "precip_type[T.sleet]    -4.0144      5.970     -0.672      0.501     -15.716       7.687\n",
      "precip_type[T.snow]      6.2865      2.033      3.093      0.002       2.303      10.270\n",
      "==============================================================================\n",
      "Omnibus:                    71705.600   Durbin-Watson:                   1.771\n",
      "Prob(Omnibus):                  0.000   Jarque-Bera (JB):         30005233.597\n",
      "Skew:                           7.835   Prob(JB):                         0.00\n",
      "Kurtosis:                     119.406   Cond. No.                         30.1\n",
      "==============================================================================\n",
      "\n",
      "Warnings:\n",
      "[1] Standard Errors assume that the covariance matrix of the errors is correctly specified.\n"
     ]
    }
   ],
   "source": [
    "formula = 'dep_delay~precip_type'\n",
    "anova_precip = ols(formula, data = flight_weather_precip).fit()\n",
    "print(anova_precip.summary())\n",
    "anova_table1 = sm.stats.anova_lm(anova_precip, typ=2)"
   ]
  },
  {
   "cell_type": "code",
   "execution_count": 77,
   "metadata": {
    "scrolled": true
   },
   "outputs": [
    {
     "name": "stdout",
     "output_type": "stream",
     "text": [
      "                   sum_sq       df           F        PR(>F)       EtaSq\n",
      "precip_type  7.765748e+05      3.0  110.259553  3.635997e-71  0.00629757\n",
      "Residual     1.225368e+08  52194.0         NaN           NaN         NaN\n"
     ]
    }
   ],
   "source": [
    "esq_sm1 = anova_table1['sum_sq'][0]/(anova_table1['sum_sq'][0] + anova_table1['sum_sq'][1])\n",
    "anova_table1['EtaSq'] = [esq_sm1, 'NaN']\n",
    "print(anova_table1)"
   ]
  },
  {
   "cell_type": "markdown",
   "metadata": {},
   "source": [
    "# Post hoc ANOVA"
   ]
  },
  {
   "cell_type": "code",
   "execution_count": 92,
   "metadata": {},
   "outputs": [
    {
     "name": "stdout",
     "output_type": "stream",
     "text": [
      "      Multiple Comparison of Means - Tukey HSD, FWER=0.05      \n",
      "===============================================================\n",
      "     group1      group2 meandiff p-adj   lower    upper  reject\n",
      "---------------------------------------------------------------\n",
      "No Precipitation   rain   8.1108  0.001   6.9576   9.264   True\n",
      "No Precipitation  sleet  -4.0144    0.9  -19.352 11.3231  False\n",
      "No Precipitation   snow   6.2865 0.0107   1.0647 11.5084   True\n",
      "            rain  sleet -12.1252 0.1772 -27.4762  3.2257  False\n",
      "            rain   snow  -1.8242 0.7851  -7.0854  3.4369  False\n",
      "           sleet   snow   10.301 0.3588  -5.8728 26.4747  False\n",
      "---------------------------------------------------------------\n",
      "['No Precipitation' 'rain' 'sleet' 'snow']\n"
     ]
    }
   ],
   "source": [
    "mc = MultiComparison(flight_weather_precip['dep_delay'], flight_weather_precip['precip_type'])\n",
    "result = mc.tukeyhsd()\n",
    " \n",
    "print(result)\n",
    "print(mc.groupsunique)"
   ]
  },
  {
   "cell_type": "markdown",
   "metadata": {},
   "source": [
    "# ANOVA Departure Delay ~ Origin + Precipitation Type"
   ]
  },
  {
   "cell_type": "markdown",
   "metadata": {},
   "source": [
    "$H_0$ : $D_{New York}$ = $D_{Los Angeles}$ = $D_{Miami}$\n",
    "\n",
    "$H_A$ : $H_0$ is false\n",
    "\n",
    "$H_0$ : $D_{no rain}$ = $D_{rain}$\n",
    "\n",
    "$H_A$ : $H_0$ is false\n",
    "\n",
    "$H_0$ : There is no interaction between origin city and precipitation\n",
    "\n",
    "$H_A$ : $H_0$ is false"
   ]
  },
  {
   "cell_type": "code",
   "execution_count": 78,
   "metadata": {
    "scrolled": true
   },
   "outputs": [
    {
     "data": {
      "image/png": "[encoded data removed]",
      "text/plain": [
       "<Figure size 432x288 with 1 Axes>"
      ]
     },
     "metadata": {
      "needs_background": "light"
     },
     "output_type": "display_data"
    }
   ],
   "source": [
    "fig = interaction_plot(x = flight_weather_precip.origin, \n",
    "                       trace = flight_weather_precip.precip_type, \n",
    "                       response = flight_weather_precip.dep_delay, \n",
    "                       colors = ['red', 'blue', 'green', 'orange'], ms=10)"
   ]
  },
  {
   "cell_type": "code",
   "execution_count": 79,
   "metadata": {},
   "outputs": [],
   "source": [
    "flight_weather_twoway = flight_weather_precip[flight_weather_precip['precip_type'].isin(['No Precipitation', 'rain'])]"
   ]
  },
  {
   "cell_type": "code",
   "execution_count": 80,
   "metadata": {},
   "outputs": [
    {
     "data": {
      "text/plain": [
       "No Precipitation    33761\n",
       "rain                17793\n",
       "snow                  578\n",
       "sleet                  66\n",
       "Name: precip_type, dtype: int64"
      ]
     },
     "execution_count": 80,
     "metadata": {},
     "output_type": "execute_result"
    }
   ],
   "source": [
    "flight_weather_precip['precip_type'].value_counts()"
   ]
  },
  {
   "cell_type": "code",
   "execution_count": 81,
   "metadata": {},
   "outputs": [
    {
     "data": {
      "text/plain": [
       "No Precipitation    33761\n",
       "rain                17793\n",
       "Name: precip_type, dtype: int64"
      ]
     },
     "execution_count": 81,
     "metadata": {},
     "output_type": "execute_result"
    }
   ],
   "source": [
    "flight_weather_twoway['precip_type'].value_counts()"
   ]
  },
  {
   "cell_type": "code",
   "execution_count": 82,
   "metadata": {},
   "outputs": [
    {
     "data": {
      "image/png": "[encoded data removed]",
      "text/plain": [
       "<Figure size 475.5x360 with 1 Axes>"
      ]
     },
     "metadata": {
      "needs_background": "light"
     },
     "output_type": "display_data"
    }
   ],
   "source": [
    "interaction_plot = sns.catplot(x = 'origin', y = 'dep_delay', \n",
    "                               hue = 'precip_type', kind = 'point', \n",
    "                               data = flight_weather_twoway);\n",
    "interaction_plot.set(xlabel = 'Origin', ylabel = 'Mean Departure Delay (Minutes)', \n",
    "                     title = 'Mean Departure Delay (Minutes) By Origin City and Precipitation Type')\n",
    "interaction_plot._legend.set_title('Precipitation Type')\n",
    "for cat, label in zip(interaction_plot._legend.texts,('Rain', 'No Precipitation')):\n",
    "    cat.set_text(label)"
   ]
  },
  {
   "cell_type": "code",
   "execution_count": 83,
   "metadata": {},
   "outputs": [],
   "source": [
    "formula = 'dep_delay~origin + precip_type + origin:precip_type'\n",
    "anova_origin_city = ols(formula, data = flight_weather_twoway).fit()\n",
    "anova_table2 = sm.stats.anova_lm(anova_origin_city, typ=2)"
   ]
  },
  {
   "cell_type": "code",
   "execution_count": 84,
   "metadata": {},
   "outputs": [
    {
     "data": {
      "text/html": [
       "<table class=\"simpletable\">\n",
       "<caption>OLS Regression Results</caption>\n",
       "<tr>\n",
       "  <th>Dep. Variable:</th>        <td>dep_delay</td>    <th>  R-squared:         </th>  <td>   0.010</td>  \n",
       "</tr>\n",
       "<tr>\n",
       "  <th>Model:</th>                   <td>OLS</td>       <th>  Adj. R-squared:    </th>  <td>   0.010</td>  \n",
       "</tr>\n",
       "<tr>\n",
       "  <th>Method:</th>             <td>Least Squares</td>  <th>  F-statistic:       </th>  <td>   73.38</td>  \n",
       "</tr>\n",
       "<tr>\n",
       "  <th>Date:</th>             <td>Thu, 14 Nov 2019</td> <th>  Prob (F-statistic):</th>  <td>3.27e-106</td> \n",
       "</tr>\n",
       "<tr>\n",
       "  <th>Time:</th>                 <td>15:39:13</td>     <th>  Log-Likelihood:    </th> <td>-2.7321e+05</td>\n",
       "</tr>\n",
       "<tr>\n",
       "  <th>No. Observations:</th>      <td> 51554</td>      <th>  AIC:               </th>  <td>5.464e+05</td> \n",
       "</tr>\n",
       "<tr>\n",
       "  <th>Df Residuals:</th>          <td> 51546</td>      <th>  BIC:               </th>  <td>5.465e+05</td> \n",
       "</tr>\n",
       "<tr>\n",
       "  <th>Df Model:</th>              <td>     7</td>      <th>                     </th>      <td> </td>     \n",
       "</tr>\n",
       "<tr>\n",
       "  <th>Covariance Type:</th>      <td>nonrobust</td>    <th>                     </th>      <td> </td>     \n",
       "</tr>\n",
       "</table>\n",
       "<table class=\"simpletable\">\n",
       "<tr>\n",
       "                  <td></td>                     <th>coef</th>     <th>std err</th>      <th>t</th>      <th>P>|t|</th>  <th>[0.025</th>    <th>0.975]</th>  \n",
       "</tr>\n",
       "<tr>\n",
       "  <th>Intercept</th>                         <td>    7.6551</td> <td>    0.502</td> <td>   15.261</td> <td> 0.000</td> <td>    6.672</td> <td>    8.638</td>\n",
       "</tr>\n",
       "<tr>\n",
       "  <th>origin[T.LAX]</th>                     <td>    5.7982</td> <td>    0.644</td> <td>    8.998</td> <td> 0.000</td> <td>    4.535</td> <td>    7.061</td>\n",
       "</tr>\n",
       "<tr>\n",
       "  <th>origin[T.LGA]</th>                     <td>   -0.6399</td> <td>    0.943</td> <td>   -0.679</td> <td> 0.497</td> <td>   -2.487</td> <td>    1.208</td>\n",
       "</tr>\n",
       "<tr>\n",
       "  <th>origin[T.MIA]</th>                     <td>    8.0569</td> <td>    0.787</td> <td>   10.240</td> <td> 0.000</td> <td>    6.515</td> <td>    9.599</td>\n",
       "</tr>\n",
       "<tr>\n",
       "  <th>precip_type[T.rain]</th>               <td>   10.9019</td> <td>    0.779</td> <td>   13.995</td> <td> 0.000</td> <td>    9.375</td> <td>   12.429</td>\n",
       "</tr>\n",
       "<tr>\n",
       "  <th>origin[T.LAX]:precip_type[T.rain]</th> <td>   -5.3527</td> <td>    1.498</td> <td>   -3.574</td> <td> 0.000</td> <td>   -8.288</td> <td>   -2.417</td>\n",
       "</tr>\n",
       "<tr>\n",
       "  <th>origin[T.LGA]:precip_type[T.rain]</th> <td>   -0.8186</td> <td>    1.468</td> <td>   -0.558</td> <td> 0.577</td> <td>   -3.696</td> <td>    2.058</td>\n",
       "</tr>\n",
       "<tr>\n",
       "  <th>origin[T.MIA]:precip_type[T.rain]</th> <td>   -4.7565</td> <td>    1.144</td> <td>   -4.157</td> <td> 0.000</td> <td>   -6.999</td> <td>   -2.514</td>\n",
       "</tr>\n",
       "</table>\n",
       "<table class=\"simpletable\">\n",
       "<tr>\n",
       "  <th>Omnibus:</th>       <td>70960.005</td> <th>  Durbin-Watson:     </th>   <td>   1.776</td>  \n",
       "</tr>\n",
       "<tr>\n",
       "  <th>Prob(Omnibus):</th>  <td> 0.000</td>   <th>  Jarque-Bera (JB):  </th> <td>29952051.204</td>\n",
       "</tr>\n",
       "<tr>\n",
       "  <th>Skew:</th>           <td> 7.863</td>   <th>  Prob(JB):          </th>   <td>    0.00</td>  \n",
       "</tr>\n",
       "<tr>\n",
       "  <th>Kurtosis:</th>       <td>120.031</td>  <th>  Cond. No.          </th>   <td>    11.2</td>  \n",
       "</tr>\n",
       "</table><br/><br/>Warnings:<br/>[1] Standard Errors assume that the covariance matrix of the errors is correctly specified."
      ],
      "text/plain": [
       "<class 'statsmodels.iolib.summary.Summary'>\n",
       "\"\"\"\n",
       "                            OLS Regression Results                            \n",
       "==============================================================================\n",
       "Dep. Variable:              dep_delay   R-squared:                       0.010\n",
       "Model:                            OLS   Adj. R-squared:                  0.010\n",
       "Method:                 Least Squares   F-statistic:                     73.38\n",
       "Date:                Thu, 14 Nov 2019   Prob (F-statistic):          3.27e-106\n",
       "Time:                        15:39:13   Log-Likelihood:            -2.7321e+05\n",
       "No. Observations:               51554   AIC:                         5.464e+05\n",
       "Df Residuals:                   51546   BIC:                         5.465e+05\n",
       "Df Model:                           7                                         \n",
       "Covariance Type:            nonrobust                                         \n",
       "=====================================================================================================\n",
       "                                        coef    std err          t      P>|t|      [0.025      0.975]\n",
       "-----------------------------------------------------------------------------------------------------\n",
       "Intercept                             7.6551      0.502     15.261      0.000       6.672       8.638\n",
       "origin[T.LAX]                         5.7982      0.644      8.998      0.000       4.535       7.061\n",
       "origin[T.LGA]                        -0.6399      0.943     -0.679      0.497      -2.487       1.208\n",
       "origin[T.MIA]                         8.0569      0.787     10.240      0.000       6.515       9.599\n",
       "precip_type[T.rain]                  10.9019      0.779     13.995      0.000       9.375      12.429\n",
       "origin[T.LAX]:precip_type[T.rain]    -5.3527      1.498     -3.574      0.000      -8.288      -2.417\n",
       "origin[T.LGA]:precip_type[T.rain]    -0.8186      1.468     -0.558      0.577      -3.696       2.058\n",
       "origin[T.MIA]:precip_type[T.rain]    -4.7565      1.144     -4.157      0.000      -6.999      -2.514\n",
       "==============================================================================\n",
       "Omnibus:                    70960.005   Durbin-Watson:                   1.776\n",
       "Prob(Omnibus):                  0.000   Jarque-Bera (JB):         29952051.204\n",
       "Skew:                           7.863   Prob(JB):                         0.00\n",
       "Kurtosis:                     120.031   Cond. No.                         11.2\n",
       "==============================================================================\n",
       "\n",
       "Warnings:\n",
       "[1] Standard Errors assume that the covariance matrix of the errors is correctly specified.\n",
       "\"\"\""
      ]
     },
     "execution_count": 84,
     "metadata": {},
     "output_type": "execute_result"
    }
   ],
   "source": [
    "anova_origin_city.summary()"
   ]
  },
  {
   "cell_type": "code",
   "execution_count": 85,
   "metadata": {},
   "outputs": [],
   "source": [
    "def eta_squared(aov):\n",
    "    aov['eta_sq'] = 'NaN'\n",
    "    aov['eta_sq'] = aov[:-1]['sum_sq']/sum(aov['sum_sq'])\n",
    "    return aov\n",
    "\n",
    "def omega_squared(aov):\n",
    "    mse = aov['sum_sq'][-1]/aov['df'][-1]\n",
    "    aov['omega_sq'] = 'NaN'\n",
    "    aov['omega_sq'] = (aov[:-1]['sum_sq']-(aov[:-1]['df']*mse))/(sum(aov['sum_sq'])+mse)\n",
    "    return aov"
   ]
  },
  {
   "cell_type": "code",
   "execution_count": 86,
   "metadata": {},
   "outputs": [
    {
     "name": "stdout",
     "output_type": "stream",
     "text": [
      "                          sum_sq       df         F  PR(>F)  eta_sq  omega_sq\n",
      "origin              3.824059e+05      3.0   54.2852     0.0  0.0031    0.0031\n",
      "precip_type         7.274663e+05      1.0  309.8067     0.0  0.0060    0.0059\n",
      "origin:precip_type  5.713751e+04      3.0    8.1111     0.0  0.0005    0.0004\n",
      "Residual            1.210367e+08  51546.0       NaN     NaN     NaN       NaN\n"
     ]
    }
   ],
   "source": [
    "eta_squared(anova_table2)\n",
    "omega_squared(anova_table2)\n",
    "print(anova_table2.round(4))"
   ]
  },
  {
   "cell_type": "code",
   "execution_count": 87,
   "metadata": {},
   "outputs": [],
   "source": [
    "cursor.close()\n",
    "cnx.close()"
   ]
  },
  {
   "cell_type": "markdown",
   "metadata": {},
   "source": [
    "# Post hoc ANOVA"
   ]
  },
  {
   "cell_type": "code",
   "execution_count": 101,
   "metadata": {},
   "outputs": [
    {
     "name": "stdout",
     "output_type": "stream",
     "text": [
      "Multiple Comparison of Means - Tukey HSD, FWER=0.05 \n",
      "====================================================\n",
      "group1 group2 meandiff p-adj   lower   upper  reject\n",
      "----------------------------------------------------\n",
      "   JFK    LAX   1.8323 0.0043  0.4336  3.2311   True\n",
      "   JFK    LGA  -1.0113 0.5021 -2.8735   0.851  False\n",
      "   JFK    MIA   6.7509  0.001  5.2872  8.2145   True\n",
      "   LAX    LGA  -2.8436  0.001 -4.7058 -0.9814   True\n",
      "   LAX    MIA   4.9185  0.001  3.4549  6.3821   True\n",
      "   LGA    MIA   7.7622  0.001  5.8507  9.6736   True\n",
      "----------------------------------------------------\n",
      "['JFK' 'LAX' 'LGA' 'MIA']\n"
     ]
    }
   ],
   "source": [
    "mc = MultiComparison(flight_weather_twoway['dep_delay'], flight_weather_twoway['origin'])\n",
    "result = mc.tukeyhsd()\n",
    " \n",
    "print(result)\n",
    "print(mc.groupsunique)"
   ]
  },
  {
   "cell_type": "code",
   "execution_count": 102,
   "metadata": {},
   "outputs": [
    {
     "ename": "AttributeError",
     "evalue": "'MultiComparison' object has no attribute 'pairwise_tukeyhsd'",
     "output_type": "error",
     "traceback": [
      "\u001b[0;31m---------------------------------------------------------------------------\u001b[0m",
      "\u001b[0;31mAttributeError\u001b[0m                            Traceback (most recent call last)",
      "\u001b[0;32m<ipython-input-102-2d030977a23a>\u001b[0m in \u001b[0;36m<module>\u001b[0;34m\u001b[0m\n\u001b[1;32m      1\u001b[0m \u001b[0mmc\u001b[0m \u001b[0;34m=\u001b[0m \u001b[0mMultiComparison\u001b[0m\u001b[0;34m(\u001b[0m\u001b[0mflight_weather_twoway\u001b[0m\u001b[0;34m[\u001b[0m\u001b[0;34m'dep_delay'\u001b[0m\u001b[0;34m]\u001b[0m\u001b[0;34m,\u001b[0m \u001b[0mflight_weather_twoway\u001b[0m\u001b[0;34m[\u001b[0m\u001b[0;34m'precip_type'\u001b[0m\u001b[0;34m]\u001b[0m\u001b[0;34m)\u001b[0m\u001b[0;34m\u001b[0m\u001b[0;34m\u001b[0m\u001b[0m\n\u001b[0;32m----> 2\u001b[0;31m \u001b[0mresult\u001b[0m \u001b[0;34m=\u001b[0m \u001b[0mmc\u001b[0m\u001b[0;34m.\u001b[0m\u001b[0mpairwise_tukeyhsd\u001b[0m\u001b[0;34m(\u001b[0m\u001b[0;34m)\u001b[0m\u001b[0;34m\u001b[0m\u001b[0;34m\u001b[0m\u001b[0m\n\u001b[0m\u001b[1;32m      3\u001b[0m \u001b[0;34m\u001b[0m\u001b[0m\n\u001b[1;32m      4\u001b[0m \u001b[0mprint\u001b[0m\u001b[0;34m(\u001b[0m\u001b[0mresult\u001b[0m\u001b[0;34m)\u001b[0m\u001b[0;34m\u001b[0m\u001b[0;34m\u001b[0m\u001b[0m\n\u001b[1;32m      5\u001b[0m \u001b[0mprint\u001b[0m\u001b[0;34m(\u001b[0m\u001b[0mmc\u001b[0m\u001b[0;34m.\u001b[0m\u001b[0mgroupsunique\u001b[0m\u001b[0;34m)\u001b[0m\u001b[0;34m\u001b[0m\u001b[0;34m\u001b[0m\u001b[0m\n",
      "\u001b[0;31mAttributeError\u001b[0m: 'MultiComparison' object has no attribute 'pairwise_tukeyhsd'"
     ]
    }
   ],
   "source": [
    "# mc = MultiComparison(flight_weather_twoway['dep_delay'], flight_weather_twoway['precip_type'])\n",
    "# result = mc.pairwise_tukeyhsd()\n",
    " \n",
    "# print(result)\n",
    "# print(mc.groupsunique)"
   ]
  },
  {
   "cell_type": "code",
   "execution_count": null,
   "metadata": {},
   "outputs": [],
   "source": []
  }
 ],
 "metadata": {
  "kernelspec": {
   "display_name": "Python 3",
   "language": "python",
   "name": "python3"
  },
  "language_info": {
   "codemirror_mode": {
    "name": "ipython",
    "version": 3
   },
   "file_extension": ".py",
   "mimetype": "text/x-python",
   "name": "python",
   "nbconvert_exporter": "python",
   "pygments_lexer": "ipython3",
   "version": "3.7.3"
  }
 },
 "nbformat": 4,
 "nbformat_minor": 2
}
